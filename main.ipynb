{
 "cells": [
  {
   "cell_type": "code",
   "execution_count": 6,
   "metadata": {},
   "outputs": [],
   "source": [
    "import pandas as pd\n",
    "import matplotlib.pyplot as plt\n",
    "import seaborn as sns"
   ]
  },
  {
   "cell_type": "code",
   "execution_count": null,
   "metadata": {},
   "outputs": [],
   "source": [
    "# Monthly Revenue Trend Analysis\n",
    "\n",
    "df = pd.read_csv('ecommerce_dataset.csv')\n",
    "\n",
    "df['OrderDate'] = pd.to_datetime(df['OrderDate'])\n",
    "df['Month'] = df['OrderDate'].dt.month\n",
    "\n",
    "monthly_revenue = df.groupby('Month')['TotalPrice'].sum().reset_index()\n",
    "\n",
    "plt.figure(figsize=(10, 6))\n",
    "plt.plot(monthly_revenue['Month'], monthly_revenue['TotalPrice'], marker='o', linestyle='-')\n",
    "plt.title('Monthly Revenue Trend (2023)')\n",
    "plt.xlabel('Month')\n",
    "plt.ylabel('Total Revenue')\n",
    "plt.xticks(range(1, 13))\n",
    "plt.grid(True)\n",
    "plt.show()\n",
    "\n",
    "max_month = monthly_revenue.loc[monthly_revenue['TotalPrice'].idxmax()]\n",
    "print(max_month)"
   ]
  },
  {
   "cell_type": "code",
   "execution_count": null,
   "metadata": {},
   "outputs": [],
   "source": [
    "# Product Category vs. Ratings and Revenue\n",
    "\n",
    "category_stats = df.groupby('ProductCategory').agg( AvgRating=('CustomerRating', 'mean'), TotalRevenue=('TotalPrice', 'sum')).reset_index()\n",
    "\n",
    "fig, (ax1, ax2) = plt.subplots(1, 2, figsize=(14, 6))\n",
    "\n",
    "ax1.bar(category_stats['ProductCategory'], category_stats['AvgRating'], color='skyblue')\n",
    "ax1.set_title('Average Customer Rating by Product Category')\n",
    "ax1.set_ylabel('Average Rating (1-5)')\n",
    "ax1.set_ylim(0, 5)\n",
    "ax1.tick_params(axis='x', rotation=45)\n",
    "\n",
    "ax2.bar(category_stats['ProductCategory'], category_stats['TotalRevenue'], color='salmon')\n",
    "ax2.set_title('Total Revenue by Product Category')\n",
    "ax2.set_ylabel('Total Revenue')\n",
    "ax2.tick_params(axis='x', rotation=45)\n",
    "ax2.yaxis.set_major_formatter('${x:,.0f}')\n",
    "\n",
    "plt.tight_layout()\n",
    "plt.show()\n",
    "\n",
    "top_rated = category_stats.loc[category_stats['AvgRating'].idxmax()]\n",
    "top_revenue = category_stats.loc[category_stats['TotalRevenue'].idxmax()]\n",
    "print(f\"Top rated: {top_rated}\")\n",
    "print(f\"Top revenue: {top_revenue}\")"
   ]
  },
  {
   "cell_type": "code",
   "execution_count": null,
   "metadata": {},
   "outputs": [],
   "source": [
    "# Payment Method Analysis\n",
    "fig, (ax1, ax2) = plt.subplots(1, 2, figsize=(14, 7))\n",
    "\n",
    "payment_counts = df['PaymentMethod'].value_counts()\n",
    "sns.countplot(data=df, y='PaymentMethod', ax=ax1, order=payment_counts.index)\n",
    "ax1.set_title('Payment Method Frequency')\n",
    "ax1.set_xlabel('Number of Orders')\n",
    "\n",
    "payment_revenue = df.groupby('PaymentMethod')['TotalPrice'].sum().sort_values(ascending=False)\n",
    "payment_revenue.plot(kind='bar', ax=ax2, color='orange')\n",
    "ax2.set_title('Total Revenue by Payment Method')\n",
    "ax2.set_xlabel('Payment Method')\n",
    "ax2.set_ylabel('Total Revenue')\n",
    "ax2.yaxis.set_major_formatter('${x:,.0f}')\n",
    "\n",
    "plt.tight_layout()\n",
    "plt.show()\n",
    "\n",
    "most_common_method = payment_counts.idxmax()\n",
    "highest_revenue_method = payment_revenue.idxmax()\n",
    "print(f\"Most common method: {most_common_method}\")\n",
    "print(f\"Highest revenue: {highest_revenue_method}\")"
   ]
  },
  {
   "cell_type": "code",
   "execution_count": null,
   "metadata": {},
   "outputs": [],
   "source": [
    "# City-Based Sales & Order Value\n",
    "city_stats = df.groupby('City').agg(TotalSales=('TotalPrice', 'sum'), AvgOrderValue=('TotalPrice', 'mean'), OrderCount=('OrderID', 'count')).sort_values('TotalSales', ascending=False).reset_index()\n",
    "\n",
    "top_cities = city_stats.head(3)\n",
    "\n",
    "plt.figure(figsize=(14, 6))\n",
    "\n",
    "plt.subplot(1, 2, 1)\n",
    "plt.bar(top_cities['City'], top_cities['TotalSales'], color='royalblue')\n",
    "plt.title('Top 3 Cities by Total Sales')\n",
    "plt.ylabel('Total Sales (USD)')\n",
    "plt.gca().yaxis.set_major_formatter('${x:,.0f}')\n",
    "\n",
    "\n",
    "plt.subplot(1, 2, 2)\n",
    "plt.bar(top_cities['City'], top_cities['AvgOrderValue'], color='forestgreen')\n",
    "plt.title('Average Order Value in Top Cities')\n",
    "plt.ylabel('Average Order Value (USD)')\n",
    "plt.gca().yaxis.set_major_formatter('${x:,.0f}')\n",
    "\n",
    "plt.tight_layout()\n",
    "plt.show()\n",
    "\n",
    "# Display \n",
    "print(\"Top 3 Cities by Total Sales:\")\n",
    "print(top_cities[['City', 'TotalSales', 'AvgOrderValue', 'OrderCount']])"
   ]
  },
  {
   "cell_type": "code",
   "execution_count": null,
   "metadata": {},
   "outputs": [],
   "source": [
    "# Gender & Product Category Ratings Comparisons\n",
    "rating_pivot = df.pivot_table(values='CustomerRating', index='ProductCategory', columns='Gender', aggfunc='mean')\n",
    "\n",
    "# Plot heatmap\n",
    "plt.figure(figsize=(10, 6))\n",
    "sns.heatmap( rating_pivot, annot=True, cmap='YlGnBu', fmt='.2f', linewidths=0.5, cbar_kws={'label': 'Average Rating'})\n",
    "plt.title('Average Ratings by Gender and Product Category')\n",
    "plt.xlabel('Gender')\n",
    "plt.ylabel('Product Category')\n",
    "plt.tight_layout()\n",
    "plt.show()"
   ]
  }
 ],
 "metadata": {
  "kernelspec": {
   "display_name": "Python 3",
   "language": "python",
   "name": "python3"
  },
  "language_info": {
   "codemirror_mode": {
    "name": "ipython",
    "version": 3
   },
   "file_extension": ".py",
   "mimetype": "text/x-python",
   "name": "python",
   "nbconvert_exporter": "python",
   "pygments_lexer": "ipython3",
   "version": "3.13.2"
  }
 },
 "nbformat": 4,
 "nbformat_minor": 2
}
